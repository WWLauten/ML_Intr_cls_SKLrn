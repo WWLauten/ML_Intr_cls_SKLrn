{
 "cells": [
  {
   "cell_type": "markdown",
   "id": "226722a2",
   "metadata": {},
   "source": [
    "Parte 1 do curso Machine Learning: Introdução a classificação com SKLearn da Alura\n",
    "\n",
    "Transcrição das aulas do instrutor Guilherme Silveira"
   ]
  },
  {
   "cell_type": "code",
   "execution_count": 15,
   "id": "44371e01",
   "metadata": {
    "ExecuteTime": {
     "end_time": "2021-09-02T15:21:47.550917Z",
     "start_time": "2021-09-02T15:21:47.539950Z"
    }
   },
   "outputs": [],
   "source": [
    "# features (1 sim, 0 não)\n",
    "# pelo longo? \n",
    "# perna curta?\n",
    "# faz auau?\n",
    "porco1 = [0, 1, 0]\n",
    "porco2 = [0, 1, 1]\n",
    "porco3 = [1, 1, 0]\n",
    "\n",
    "cachorro1 = [0, 1, 1]\n",
    "cachorro2 = [1, 0, 1]\n",
    "cachorro3 = [1, 1, 1]\n",
    "\n",
    "# 1 => porco, 0 => cachorro\n",
    "treino_x = [porco1, porco2,  porco3, cachorro1, cachorro2, cachorro3]\n",
    "treino_y = [1,1,1,0,0,0] # labels / etiquetas"
   ]
  },
  {
   "cell_type": "code",
   "execution_count": 16,
   "id": "c494eca2",
   "metadata": {
    "ExecuteTime": {
     "end_time": "2021-09-02T15:21:48.130521Z",
     "start_time": "2021-09-02T15:21:48.123529Z"
    }
   },
   "outputs": [],
   "source": [
    "from sklearn.svm import LinearSVC"
   ]
  },
  {
   "cell_type": "code",
   "execution_count": 17,
   "id": "32d19113",
   "metadata": {
    "ExecuteTime": {
     "end_time": "2021-09-02T15:21:48.678114Z",
     "start_time": "2021-09-02T15:21:48.660170Z"
    }
   },
   "outputs": [
    {
     "data": {
      "text/plain": [
       "LinearSVC()"
      ]
     },
     "execution_count": 17,
     "metadata": {},
     "output_type": "execute_result"
    }
   ],
   "source": [
    "model = LinearSVC()\n",
    "model.fit(treino_x, treino_y)"
   ]
  },
  {
   "cell_type": "code",
   "execution_count": 18,
   "id": "cd3203da",
   "metadata": {
    "ExecuteTime": {
     "end_time": "2021-09-02T15:21:49.315879Z",
     "start_time": "2021-09-02T15:21:49.294940Z"
    }
   },
   "outputs": [
    {
     "data": {
      "text/plain": [
       "array([0])"
      ]
     },
     "execution_count": 18,
     "metadata": {},
     "output_type": "execute_result"
    }
   ],
   "source": [
    "animal_misterioso = [1,1,1]\n",
    "model.predict([animal_misterioso])"
   ]
  },
  {
   "cell_type": "code",
   "execution_count": 19,
   "id": "13b1a5ec",
   "metadata": {
    "ExecuteTime": {
     "end_time": "2021-09-02T15:21:49.894854Z",
     "start_time": "2021-09-02T15:21:49.874898Z"
    }
   },
   "outputs": [],
   "source": [
    "misterio1 = [1,1,1]\n",
    "misterio2 = [1,1,0]\n",
    "misterio3 = [0,1,1]\n",
    "\n",
    "teste_x = [misterio1, misterio2, misterio3]\n",
    "# O valor real, que tínhamos previamente, será chamado de testes_y\n",
    "teste_y = [0, 1, 1]\n",
    "\n",
    "previsoes = model.predict(teste_x)"
   ]
  },
  {
   "cell_type": "code",
   "execution_count": 20,
   "id": "5c6fa77a",
   "metadata": {
    "ExecuteTime": {
     "end_time": "2021-09-02T15:21:50.992222Z",
     "start_time": "2021-09-02T15:21:50.972277Z"
    }
   },
   "outputs": [],
   "source": [
    "corretos = (previsoes == teste_y).sum()"
   ]
  },
  {
   "cell_type": "code",
   "execution_count": 24,
   "id": "545bdec5",
   "metadata": {
    "ExecuteTime": {
     "end_time": "2021-09-02T15:23:20.149728Z",
     "start_time": "2021-09-02T15:23:20.142744Z"
    }
   },
   "outputs": [
    {
     "name": "stdout",
     "output_type": "stream",
     "text": [
      "Taxa de acerto 66.67 \n"
     ]
    }
   ],
   "source": [
    "total = len(teste_x)\n",
    "taxa_de_acerto = corretos/total\n",
    "print(\"Taxa de acerto %.2f \" % (taxa_de_acerto * 100))"
   ]
  },
  {
   "cell_type": "code",
   "execution_count": 22,
   "id": "36a5887e",
   "metadata": {
    "ExecuteTime": {
     "end_time": "2021-09-02T15:22:00.382546Z",
     "start_time": "2021-09-02T15:22:00.370576Z"
    }
   },
   "outputs": [],
   "source": [
    "from sklearn.metrics import accuracy_score"
   ]
  },
  {
   "cell_type": "code",
   "execution_count": 25,
   "id": "0905656c",
   "metadata": {
    "ExecuteTime": {
     "end_time": "2021-09-02T15:24:56.227207Z",
     "start_time": "2021-09-02T15:24:56.220255Z"
    }
   },
   "outputs": [
    {
     "name": "stdout",
     "output_type": "stream",
     "text": [
      "Taxa de acerto 66.67 \n"
     ]
    }
   ],
   "source": [
    "taxa_de_acerto = accuracy_score(teste_y, previsoes)\n",
    "print(\"Taxa de acerto %.2f \" % (taxa_de_acerto * 100))"
   ]
  }
 ],
 "metadata": {
  "kernelspec": {
   "display_name": "Python 3",
   "language": "python",
   "name": "python3"
  },
  "language_info": {
   "codemirror_mode": {
    "name": "ipython",
    "version": 3
   },
   "file_extension": ".py",
   "mimetype": "text/x-python",
   "name": "python",
   "nbconvert_exporter": "python",
   "pygments_lexer": "ipython3",
   "version": "3.8.8"
  },
  "toc": {
   "base_numbering": 1,
   "nav_menu": {},
   "number_sections": true,
   "sideBar": true,
   "skip_h1_title": false,
   "title_cell": "Table of Contents",
   "title_sidebar": "Contents",
   "toc_cell": false,
   "toc_position": {},
   "toc_section_display": true,
   "toc_window_display": false
  }
 },
 "nbformat": 4,
 "nbformat_minor": 5
}
